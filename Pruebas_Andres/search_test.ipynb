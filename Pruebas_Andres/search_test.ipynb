{
 "cells": [
  {
   "cell_type": "code",
   "execution_count": 1,
   "metadata": {},
   "outputs": [],
   "source": [
    "from PIL import Image\n",
    "import pytesseract\n",
    "import webbrowser \n",
    "import unidecode\n",
    "import re"
   ]
  },
  {
   "cell_type": "markdown",
   "metadata": {},
   "source": [
    "### Hacer: \n",
    "* Take a screenshot of the image and copy it's name file so that is can be used in the function\n",
    "* "
   ]
  },
  {
   "cell_type": "code",
   "execution_count": null,
   "metadata": {},
   "outputs": [],
   "source": [
    "def search(picture):\n",
    "    #Variables \n",
    "    tabUrl = \"http://google.com/?#q=\"\n",
    "    #Getting the text from the image\n",
    "    image = image.open(picture)\n",
    "    text = pytesseract.image_to_string(imagen, lang = \"spa\")\n",
    "    sentence = text\n",
    "    sentence = unidecode.unidecode(sentence)\n",
    "    #sentence = re.sub('[\\n]', '', sentence)\n",
    "    search = sentence.replace(' ','+')\n",
    "    #Making an usable array \n",
    "    array = []\n",
    "    \n",
    "    \n",
    "    #Searching \n",
    "    webbrowser.open(tabUrl+search,new=2)"
   ]
  },
  {
   "cell_type": "code",
   "execution_count": null,
   "metadata": {},
   "outputs": [],
   "source": [
    "sentence = \"¿Cuál de estas razas de perro es\\noriginaria de China y su rasgo distintivo\\nson profundas arrugas?\\n\\nShar Pei\\n\\nShih Tzu\\n\\nShiba Inu\""
   ]
  },
  {
   "cell_type": "code",
   "execution_count": null,
   "metadata": {},
   "outputs": [],
   "source": []
  }
 ],
 "metadata": {
  "kernelspec": {
   "display_name": "Python 3",
   "language": "python",
   "name": "python3"
  },
  "language_info": {
   "codemirror_mode": {
    "name": "ipython",
    "version": 3
   },
   "file_extension": ".py",
   "mimetype": "text/x-python",
   "name": "python",
   "nbconvert_exporter": "python",
   "pygments_lexer": "ipython3",
   "version": "3.6.8"
  }
 },
 "nbformat": 4,
 "nbformat_minor": 2
}
