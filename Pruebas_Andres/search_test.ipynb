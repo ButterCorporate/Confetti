{
 "cells": [
  {
   "cell_type": "code",
   "execution_count": 96,
   "metadata": {},
   "outputs": [],
   "source": [
    "from PIL import Image\n",
    "import pytesseract\n",
    "import webbrowser \n",
    "import unidecode\n",
    "import re\n",
    "import pyscreenshot"
   ]
  },
  {
   "cell_type": "markdown",
   "metadata": {},
   "source": [
    "### Hacer: \n",
    "* Take a screenshot of the image and copy it's name file so that is can be used in the function"
   ]
  },
  {
   "cell_type": "code",
   "execution_count": 107,
   "metadata": {},
   "outputs": [],
   "source": [
    "def search():\n",
    "    #Variables \n",
    "    \n",
    "    tabUrl = \"http://google.com/?#q=\"\n",
    "    \n",
    "    #Pyscreenshot\n",
    "    screenshot=pyscreenshot.grab(bbox=(10,10,500,500)) #Limita la pantalla\n",
    "    screenshot.show() #Enseña la captura de pantalla, la puedes desactivar\n",
    "    pyscreenshot.grab_to_file('desktop') #Guarda la captura de pantalla\n",
    "    #Getting the text from the image\n",
    "    #image = image.open(picture)\n",
    "    #text = pytesseract.image_to_string(imagen, lang = \"spa\")\n",
    "    sentence = \"¿Cuál de estas razas de perro es\\noriginaria de China y su rasgo distintivo\\nson profundas arrugas?\\n\\nShar Pei\\n\\nShih Tzu\\n\\nShiba Inu\"\n",
    "    sentence = unidecode.unidecode(sentence)\n",
    "    #sentence = re.sub('[\\n]', '', sentence)\n",
    "    search_a = sentence.replace(' ','+')\n",
    "    #Making an usable array \n",
    "    search_a = (search_a.split(\"\\n\\n\"))\n",
    "    search_a[0] = re.sub(\"[\\n]\", \"\", search_a[0])\n",
    "    search_a[1] = re.sub(\"[\\n]\", \"\", search_a[1])\n",
    "    search_a[2] = re.sub(\"[\\n]\", \"\", search_a[2])\n",
    "    search_a[3] = re.sub(\"[\\n]\", \"\", search_a[3])\n",
    "    print(search_a)\n",
    "    q = search_a[0]\n",
    "    a1 = search_a[1]\n",
    "    a2 = search_a[2]\n",
    "    a3 = search_a[3]\n",
    "    print(\"option: \")\n",
    "    #command = input()\n",
    "    if(command == \"q\"): \n",
    "        webbrowser.open(tabUrl+search_a[0],new=2) \n",
    "    elif(command == \"a1\"): \n",
    "        webbrowser.open(tabUrl+a1,new=2)\n",
    "    elif(command == \"a2\"): \n",
    "        webbrowser.open(tabUrl+a2,new=2)\n",
    "    elif(command == \"a3\"): \n",
    "        webbrowser.open(tabUrl+a3,new=2)     \n",
    "    #Searching "
   ]
  },
  {
   "cell_type": "code",
   "execution_count": 80,
   "metadata": {},
   "outputs": [
    {
     "name": "stdout",
     "output_type": "stream",
     "text": [
      "['¿Cuál+de+estas+razas+de+perro+esoriginaria+de+China+y+su+rasgo+distintivoson+profundas+arrugas?', 'Shar+Pei', 'Shih+Tzu', 'Shiba+Inu']\n"
     ]
    }
   ],
   "source": [
    "tabUrl = \"http://google.com/?#q=\"\n",
    "sentence = \"¿Cuál de estas razas de perro es\\noriginaria de China y su rasgo distintivo\\nson profundas arrugas?\\n\\nShar Pei\\n\\nShih Tzu\\n\\nShiba Inu\"\n",
    "search_a = sentence\n",
    "search_a = sentence.replace(' ','+')\n",
    "search_a = (search_a.split(\"\\n\\n\"))\n",
    "search_a[0] = re.sub(\"[\\n]\", \"\", search_a[0])\n",
    "print(search_a)"
   ]
  },
  {
   "cell_type": "code",
   "execution_count": 105,
   "metadata": {
    "scrolled": true
   },
   "outputs": [
    {
     "name": "stdout",
     "output_type": "stream",
     "text": [
      "['?Cual+de+estas+razas+de+perro+esoriginaria+de+China+y+su+rasgo+distintivoson+profundas+arrugas?', 'Shar+Pei', 'Shih+Tzu', 'Shiba+Inu']\n",
      "option: \n",
      "q\n",
      "q\n",
      "heeeey\n"
     ]
    }
   ],
   "source": [
    "search()"
   ]
  },
  {
   "cell_type": "code",
   "execution_count": 106,
   "metadata": {},
   "outputs": [],
   "source": [
    "screenshot=pyscreenshot.grab(bbox=(10,10,500,500)) #Limita la pantalla\n",
    "screenshot.show() #Enseña la captura de pantalla, la puedes desactivar\n",
    "pyscreenshot.grab_to_file('cp.png') #Guarda la captura de pantalla"
   ]
  },
  {
   "cell_type": "code",
   "execution_count": null,
   "metadata": {},
   "outputs": [],
   "source": []
  }
 ],
 "metadata": {
  "kernelspec": {
   "display_name": "Python 3",
   "language": "python",
   "name": "python3"
  },
  "language_info": {
   "codemirror_mode": {
    "name": "ipython",
    "version": 3
   },
   "file_extension": ".py",
   "mimetype": "text/x-python",
   "name": "python",
   "nbconvert_exporter": "python",
   "pygments_lexer": "ipython3",
   "version": "3.6.8"
  }
 },
 "nbformat": 4,
 "nbformat_minor": 2
}
