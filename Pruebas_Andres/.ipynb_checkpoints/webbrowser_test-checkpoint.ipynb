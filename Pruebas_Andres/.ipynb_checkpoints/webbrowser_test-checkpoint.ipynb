{
 "cells": [
  {
   "cell_type": "markdown",
   "metadata": {},
   "source": [
    "# Lib Webbrowser\n",
    "\n",
    "Making changes to the code so that it can search for words with accents and simbols outside the standard ASCII"
   ]
  },
  {
   "cell_type": "code",
   "execution_count": 1,
   "metadata": {},
   "outputs": [],
   "source": [
    "import webbrowser \n",
    "import unidecode\n",
    "import re"
   ]
  },
  {
   "cell_type": "code",
   "execution_count": 2,
   "metadata": {},
   "outputs": [
    {
     "name": "stdout",
     "output_type": "stream",
     "text": [
      "Ingresar palabra/oracion/pregunta a buscar: hi\\n\n"
     ]
    }
   ],
   "source": [
    "tabUrl = \"http://google.com/?#q=\"\n",
    "term = input('Ingresar palabra/oracion/pregunta a buscar: ')"
   ]
  },
  {
   "cell_type": "code",
   "execution_count": 11,
   "metadata": {},
   "outputs": [],
   "source": [
    "sentence = unidecode.unidecode(sentence)\n",
    "sentence = re.sub('[\\n]', '', sentence)\n",
    "search = sentece.replace(' ','+')\n",
    "#webbrowser.open(tabUrl+serach,new=2)"
   ]
  },
  {
   "cell_type": "code",
   "execution_count": 12,
   "metadata": {},
   "outputs": [
    {
     "name": "stdout",
     "output_type": "stream",
     "text": [
      "hi\\n\n"
     ]
    }
   ],
   "source": [
    "print(search)"
   ]
  },
  {
   "cell_type": "markdown",
   "metadata": {},
   "source": [
    "## Observaciones \n",
    "\n",
    "* No puede manejar salto de lineas el webbrowser \n",
    "* Toma alrededor de 1"
   ]
  },
  {
   "cell_type": "markdown",
   "metadata": {},
   "source": [
    "#### Ejemplos de preguntas a buscar \n",
    "\n",
    "* '7 a\\n\\nO) Playing for Fun\\nQuestion 8 of 10\\n\\n¿Cual de estas superficies tiene un solo\\nlado y un solo borde?\\n\\nWe\\n\\n3\\n\\nCinta 2D\\n\\nCinta de Moebius\\n\\nCinta Unilateral'\n",
    "* \"MM\\n\\n7\\n\\nERAS ' A E\\n\\nPlaying for Fun\\n[IET O)\\n\\n¿Cuál de estas razas de perro es\\noriginaria de China y su rasgo distintivo\\nson profundas arrugas?\\n\\nShar Pei\\n\\nShih Tzu\\n\\nShiba Inu\"\n",
    "* 'l\\n\\nWE\\n\\nPlaying for Fun\\n[IES lO\\n\\n¿Cuál de éstos es el periódico más\\nantiguo de México?\\n\\nEl Universal\\n\\nEl Dictamen de Veracruz\\n\\nEl Excelsior'\n",
    "* 'Según guinnessworldrecords.com, ¿cuál\\nde estos países tuvo el record mundial\\npor el beso más largo?\\n\\nMéxico\\n\\nTailandia\\n\\nFrancia'"
   ]
  },
  {
   "cell_type": "code",
   "execution_count": null,
   "metadata": {},
   "outputs": [],
   "source": []
  }
 ],
 "metadata": {
  "kernelspec": {
   "display_name": "Python 3",
   "language": "python",
   "name": "python3"
  },
  "language_info": {
   "codemirror_mode": {
    "name": "ipython",
    "version": 3
   },
   "file_extension": ".py",
   "mimetype": "text/x-python",
   "name": "python",
   "nbconvert_exporter": "python",
   "pygments_lexer": "ipython3",
   "version": "3.6.8"
  }
 },
 "nbformat": 4,
 "nbformat_minor": 2
}
